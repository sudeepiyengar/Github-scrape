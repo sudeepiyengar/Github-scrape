{
 "cells": [
  {
   "cell_type": "code",
   "execution_count": null,
   "metadata": {},
   "outputs": [],
   "source": [
    "import html5lib\n",
    "import requests\n",
    "from bs4 import BeautifulSoup as bs"
   ]
  },
  {
   "cell_type": "code",
   "execution_count": null,
   "metadata": {},
   "outputs": [],
   "source": [
    "github_proj_user = input(\"Enter github user name:\")\n",
    "project_url = 'https://github.com/'+github_proj_user+'?tab=repositories'\n",
    "base_url = 'https://github.com/'\n",
    "r = requests.get(project_url)\n",
    "soup = bs(r.text, \"html5lib\")\n",
    "profile_projects = []\n",
    "\n",
    "li = soup.findAll('div', class_=\"d-inline-block mb-1\")\n",
    "\n",
    "for _,i in enumerate(li):\n",
    "    for a in i.findAll('a'):\n",
    "        new_url = base_url + a['href']\n",
    "        print(_+1,i.text.strip(), new_url)"
   ]
  },
  {
   "cell_type": "code",
   "execution_count": null,
   "metadata": {},
   "outputs": [],
   "source": []
  }
 ],
 "metadata": {
  "kernelspec": {
   "display_name": "Python 3",
   "language": "python",
   "name": "python3"
  },
  "language_info": {
   "codemirror_mode": {
    "name": "ipython",
    "version": 3
   },
   "file_extension": ".py",
   "mimetype": "text/x-python",
   "name": "python",
   "nbconvert_exporter": "python",
   "pygments_lexer": "ipython3",
   "version": "3.8.3"
  }
 },
 "nbformat": 4,
 "nbformat_minor": 4
}
